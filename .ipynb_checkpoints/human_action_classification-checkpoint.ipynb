{
 "cells": [
  {
   "cell_type": "markdown",
   "metadata": {
    "id": "ngnLYRCIBokG"
   },
   "source": [
    "**Checkout the code**"
   ]
  },
  {
   "cell_type": "code",
   "execution_count": null,
   "metadata": {
    "id": "LMKtLhhDJbxM"
   },
   "outputs": [],
   "source": [
    "!git clone https://github.com/spmallick/learnopencv.git"
   ]
  },
  {
   "cell_type": "code",
   "execution_count": null,
   "metadata": {
    "id": "ZxvbIompKS9r"
   },
   "outputs": [],
   "source": [
    "%cd learnopencv/Human-Action-Recognition-Using-Detectron2-And-Lstm"
   ]
  },
  {
   "cell_type": "markdown",
   "metadata": {
    "id": "Z2uLPe4lBva0"
   },
   "source": [
    "**Install dependencies**"
   ]
  },
  {
   "cell_type": "code",
   "execution_count": null,
   "metadata": {
    "id": "HSmL-mcBNwVy"
   },
   "outputs": [],
   "source": [
    "!pip install -r requirements.txt"
   ]
  },
  {
   "cell_type": "code",
   "execution_count": null,
   "metadata": {},
   "outputs": [
    {
     "name": "stdout",
     "output_type": "stream",
     "text": [
      "Collecting package metadata (current_repodata.json): done\n",
      "Solving environment: failed with initial frozen solve. Retrying with flexible solve.\n",
      "Collecting package metadata (repodata.json): done\n",
      "Solving environment: failed with initial frozen solve. Retrying with flexible solve.\n",
      "Solving environment: | "
     ]
    }
   ],
   "source": [
    "!conda install pytorch==1.8.1 torchvision==0.9.1 torchaudio==0.8.1 cudatoolkit=10.2 -c pytorch"
   ]
  },
  {
   "cell_type": "markdown",
   "metadata": {
    "id": "7UZwJol0BjEd"
   },
   "source": [
    "**Install Detectron2**"
   ]
  },
  {
   "cell_type": "code",
   "execution_count": null,
   "metadata": {
    "id": "b8-t47lVLSFl"
   },
   "outputs": [],
   "source": [
    "import torch\n",
    "assert torch.__version__.startswith(\"1.8\")   # need to manually install torch 1.8 if Colab changes its default version\n",
    "!pip install detectron2 -f https://dl.fbaipublicfiles.com/detectron2/wheels/cu101/torch1.8/index.html"
   ]
  },
  {
   "cell_type": "markdown",
   "metadata": {
    "id": "RoSs4KvnRT4F"
   },
   "source": [
    "**Install ngrok for tunneling to the web application we are about to run on colab**"
   ]
  },
  {
   "cell_type": "code",
   "execution_count": null,
   "metadata": {
    "id": "TyVT0SqKLgso"
   },
   "outputs": [],
   "source": [
    "# Download ngrok for tunneling.\n",
    "!if [ ! -f ./ngrok ]; then \\\n",
    " wget https://bin.equinox.io/c/4VmDzA7iaHb/ngrok-stable-linux-amd64.zip; \\\n",
    " unzip -o ngrok-stable-linux-amd64.zip; \\\n",
    " fi"
   ]
  },
  {
   "cell_type": "code",
   "execution_count": 6,
   "metadata": {
    "id": "hMxzllRCLkoz"
   },
   "outputs": [],
   "source": [
    "# Then start a mini web server.\n",
    "port = 5000\n",
    "!pkill ngrok\n",
    "!kill $(ps x | grep -v grep | grep http.server | awk '{print $1}') 2>/dev/null\n",
    "\n",
    "get_ipython().system_raw(\n",
    "    'python app.py && python3 -m http.server {} &'\n",
    "    .format(port)\n",
    ")\n",
    "\n",
    "# And, forward the port using ngrok.\n",
    "get_ipython().system_raw('./ngrok http {} &'.format(port))"
   ]
  },
  {
   "cell_type": "markdown",
   "metadata": {
    "id": "qWbee0wJRjSH"
   },
   "source": [
    "**Copy the app url generated from the below step**"
   ]
  },
  {
   "cell_type": "code",
   "execution_count": null,
   "metadata": {
    "id": "QK-kQbr6LohX"
   },
   "outputs": [],
   "source": [
    "# Get the public address from localhost:4040 (ngrok's web interface).\n",
    "import time, urllib, json\n",
    "import urllib.request\n",
    "time.sleep(1)  # Give ngrok time to startup.\n",
    "ngrok_data = json.load(\n",
    "    urllib.request.urlopen('http://localhost:4040/api/tunnels'))\n",
    "ngrok_data['tunnels'][0]['public_url']"
   ]
  },
  {
   "cell_type": "markdown",
   "metadata": {
    "id": "SoTjyCB0SJi_"
   },
   "source": [
    "**Run the application**"
   ]
  },
  {
   "cell_type": "code",
   "execution_count": null,
   "metadata": {
    "id": "QfsEeQCOLteG"
   },
   "outputs": [],
   "source": [
    "!python app.py"
   ]
  },
  {
   "cell_type": "markdown",
   "metadata": {
    "id": "VW34PmwYSN5J"
   },
   "source": [
    "**Open the app url on browser to access the app**"
   ]
  }
 ],
 "metadata": {
  "accelerator": "GPU",
  "colab": {
   "name": "human_action_classification.ipynb",
   "provenance": []
  },
  "kernelspec": {
   "display_name": "Python 3 (ipykernel)",
   "language": "python",
   "name": "python3"
  },
  "language_info": {
   "codemirror_mode": {
    "name": "ipython",
    "version": 3
   },
   "file_extension": ".py",
   "mimetype": "text/x-python",
   "name": "python",
   "nbconvert_exporter": "python",
   "pygments_lexer": "ipython3",
   "version": "3.7.12"
  }
 },
 "nbformat": 4,
 "nbformat_minor": 1
}
