{
  "cells": [
    {
      "cell_type": "markdown",
      "metadata": {
        "id": "ngnLYRCIBokG"
      },
      "source": [
        "**Checkout the code**"
      ]
    },
    {
      "cell_type": "code",
      "execution_count": null,
      "metadata": {
        "id": "LMKtLhhDJbxM"
      },
      "outputs": [],
      "source": [
        "!git clone https://github.com/spmallick/learnopencv.git"
      ]
    },
    {
      "cell_type": "code",
      "execution_count": null,
      "metadata": {
        "id": "ZxvbIompKS9r"
      },
      "outputs": [],
      "source": [
        "%cd learnopencv/Human-Action-Recognition-Using-Detectron2-And-Lstm"
      ]
    },
    {
      "cell_type": "markdown",
      "metadata": {
        "id": "Z2uLPe4lBva0"
      },
      "source": [
        "**Install dependencies**"
      ]
    },
    {
      "cell_type": "code",
      "execution_count": null,
      "metadata": {},
      "outputs": [
        {
          "ename": "",
          "evalue": "",
          "output_type": "error",
          "traceback": [
            "\u001b[1;31mRunning cells with 'har' requires the ipykernel package.\n",
            "\u001b[1;31mRun the following command to install 'ipykernel' into the Python environment. \n",
            "\u001b[1;31mCommand: 'conda install -n har ipykernel --update-deps --force-reinstall'"
          ]
        }
      ],
      "source": [
        "%conda list -e > requirements_new.txt"
      ]
    },
    {
      "cell_type": "markdown",
      "metadata": {},
      "source": [
        "```=\n",
        "# This file may be used to create an environment using:\n",
        "# $ conda create --name <env> --file <this file>\n",
        "# platform: linux-64 cuda: 10.2\n",
        "_libgcc_mutex=0.1=main\n",
        "_openmp_mutex=5.1=1_gnu\n",
        "absl-py=2.1.0=pypi_0\n",
        "aiohttp=3.8.6=pypi_0\n",
        "aiosignal=1.3.1=pypi_0\n",
        "antlr4-python3-runtime=4.9.3=pypi_0\n",
        "appdirs=1.4.4=pypi_0\n",
        "async-timeout=4.0.3=pypi_0\n",
        "asynctest=0.13.0=pypi_0\n",
        "attrs=23.2.0=pypi_0\n",
        "black=21.4b2=pypi_0\n",
        "blas=1.0=mkl\n",
        "bzip2=1.0.8=h5eee18b_5\n",
        "ca-certificates=2024.3.11=h06a4308_0\n",
        "cachetools=5.3.3=pypi_0\n",
        "certifi=2022.12.7=py37h06a4308_0\n",
        "charset-normalizer=3.3.2=pypi_0\n",
        "click=8.1.7=pypi_0\n",
        "cloudpickle=2.2.1=pypi_0\n",
        "cudatoolkit=10.2.89=hfd86e86_1\n",
        "cycler=0.11.0=pypi_0\n",
        "detectron2=0.6+cu102=pypi_0\n",
        "dominate=2.9.1=pypi_0\n",
        "ffmpeg=4.3=hf484d3e_0\n",
        "flask=2.2.2=pypi_0\n",
        "flask-bootstrap=3.3.7.1=pypi_0\n",
        "flask-uploads=0.2.1=pypi_0\n",
        "flit-core=3.6.0=pyhd3eb1b0_0\n",
        "fonttools=4.38.0=pypi_0\n",
        "freetype=2.12.1=h4a9f257_0\n",
        "frozenlist=1.3.3=pypi_0\n",
        "fsspec=2023.1.0=pypi_0\n",
        "future=1.0.0=pypi_0\n",
        "fvcore=0.1.5.post20221221=pypi_0\n",
        "giflib=5.2.1=h5eee18b_3\n",
        "gmp=6.2.1=h295c915_3\n",
        "gnutls=3.6.15=he1e5248_0\n",
        "google-auth=2.29.0=pypi_0\n",
        "google-auth-oauthlib=0.4.6=pypi_0\n",
        "grpcio=1.62.1=pypi_0\n",
        "hydra-core=1.3.2=pypi_0\n",
        "idna=3.6=pypi_0\n",
        "importlib-metadata=6.7.0=pypi_0\n",
        "importlib-resources=5.12.0=pypi_0\n",
        "intel-openmp=2021.4.0=h06a4308_3561\n",
        "iopath=0.1.9=pypi_0\n",
        "itsdangerous=2.1.2=pypi_0\n",
        "jinja2=3.1.3=pypi_0\n",
        "jpeg=9b=h024ee3a_2\n",
        "kiwisolver=1.4.5=pypi_0\n",
        "lame=3.100=h7b6447c_0\n",
        "lcms2=2.12=h3be6417_0\n",
        "ld_impl_linux-64=2.38=h1181459_1\n",
        "libffi=3.4.4=h6a678d5_0\n",
        "libgcc-ng=11.2.0=h1234567_1\n",
        "libgomp=11.2.0=h1234567_1\n",
        "libiconv=1.16=h7f8727e_2\n",
        "libidn2=2.3.4=h5eee18b_0\n",
        "libpng=1.6.39=h5eee18b_0\n",
        "libstdcxx-ng=11.2.0=h1234567_1\n",
        "libtasn1=4.19.0=h5eee18b_0\n",
        "libtiff=4.1.0=h2733197_1\n",
        "libunistring=0.9.10=h27cfd23_0\n",
        "libuv=1.44.2=h5eee18b_0\n",
        "libwebp=1.2.0=h89dd481_0\n",
        "lz4-c=1.9.4=h6a678d5_0\n",
        "markdown=3.4.4=pypi_0\n",
        "markupsafe=2.1.5=pypi_0\n",
        "matplotlib=3.5.3=pypi_0\n",
        "mkl=2021.4.0=h06a4308_640\n",
        "mkl-service=2.4.0=py37h7f8727e_0\n",
        "mkl_fft=1.3.1=py37hd3c417c_0\n",
        "mkl_random=1.2.2=py37h51133e4_0\n",
        "multidict=6.0.5=pypi_0\n",
        "mypy-extensions=1.0.0=pypi_0\n",
        "ncurses=6.4=h6a678d5_0\n",
        "nettle=3.7.3=hbbd107a_1\n",
        "ninja=1.10.2=h06a4308_5\n",
        "ninja-base=1.10.2=hd09550d_5\n",
        "numpy=1.19.5=pypi_0\n",
        "oauthlib=3.2.2=pypi_0\n",
        "omegaconf=2.3.0=pypi_0\n",
        "opencv-python=4.1.2.30=pypi_0\n",
        "openh264=2.1.1=h4ff587b_0\n",
        "openssl=1.1.1w=h7f8727e_0\n",
        "packaging=24.0=pypi_0\n",
        "pathspec=0.11.2=pypi_0\n",
        "pillow=9.3.0=py37hace64e9_1\n",
        "pip=22.3.1=py37h06a4308_0\n",
        "portalocker=2.7.0=pypi_0\n",
        "protobuf=3.20.3=pypi_0\n",
        "pyasn1=0.5.1=pypi_0\n",
        "pyasn1-modules=0.3.0=pypi_0\n",
        "pycocotools=2.0.7=pypi_0\n",
        "pydeprecate=0.3.1=pypi_0\n",
        "pydot=2.0.0=pypi_0\n",
        "pyparsing=3.1.2=pypi_0\n",
        "python=3.7.16=h7a1cb2a_0\n",
        "python-dateutil=2.9.0.post0=pypi_0\n",
        "pytorch=1.8.1=py3.7_cuda10.2_cudnn7.6.5_0\n",
        "pytorch-lightning=1.4.0=pypi_0\n",
        "pyyaml=5.1=pypi_0\n",
        "readline=8.2=h5eee18b_0\n",
        "regex=2023.12.25=pypi_0\n",
        "requests=2.31.0=pypi_0\n",
        "requests-oauthlib=2.0.0=pypi_0\n",
        "rsa=4.9=pypi_0\n",
        "setuptools=65.6.3=py37h06a4308_0\n",
        "six=1.16.0=pyhd3eb1b0_1\n",
        "sqlite=3.41.2=h5eee18b_0\n",
        "tabulate=0.9.0=pypi_0\n",
        "tensorboard=2.8.0=pypi_0\n",
        "tensorboard-data-server=0.6.1=pypi_0\n",
        "tensorboard-plugin-wit=1.8.1=pypi_0\n",
        "termcolor=2.3.0=pypi_0\n",
        "tk=8.6.12=h1ccaba5_0\n",
        "toml=0.10.2=pypi_0\n",
        "torchaudio=0.8.1=py37\n",
        "torchmetrics=0.6.0=pypi_0\n",
        "torchtext=0.9.1=pypi_0\n",
        "torchvision=0.9.1=py37_cu102\n",
        "tqdm=4.66.2=pypi_0\n",
        "typed-ast=1.5.5=pypi_0\n",
        "typing_extensions=4.4.0=py37h06a4308_0\n",
        "urllib3=2.0.7=pypi_0\n",
        "visitor=0.1.3=pypi_0\n",
        "werkzeug=2.2.3=pypi_0\n",
        "wheel=0.38.4=py37h06a4308_0\n",
        "xz=5.4.6=h5eee18b_0\n",
        "yacs=0.1.8=pypi_0\n",
        "yarl=1.9.4=pypi_0\n",
        "zipp=3.15.0=pypi_0\n",
        "zlib=1.2.13=h5eee18b_0\n",
        "zstd=1.4.9=haebb681_0\n",
        "```"
      ]
    },
    {
      "cell_type": "code",
      "execution_count": null,
      "metadata": {},
      "outputs": [
        {
          "ename": "ValueError",
          "evalue": "The python kernel does not appear to be a conda environment.  Please use ``%pip install`` instead.",
          "output_type": "error",
          "traceback": [
            "\u001b[0;31m---------------------------------------------------------------------------\u001b[0m",
            "\u001b[0;31mValueError\u001b[0m                                Traceback (most recent call last)",
            "Cell \u001b[0;32mIn[1], line 1\u001b[0m\n\u001b[0;32m----> 1\u001b[0m \u001b[43mget_ipython\u001b[49m\u001b[43m(\u001b[49m\u001b[43m)\u001b[49m\u001b[38;5;241;43m.\u001b[39;49m\u001b[43mrun_line_magic\u001b[49m\u001b[43m(\u001b[49m\u001b[38;5;124;43m'\u001b[39;49m\u001b[38;5;124;43mconda\u001b[39;49m\u001b[38;5;124;43m'\u001b[39;49m\u001b[43m,\u001b[49m\u001b[43m \u001b[49m\u001b[38;5;124;43m'\u001b[39;49m\u001b[38;5;124;43mlist | grep pytorch\u001b[39;49m\u001b[38;5;124;43m'\u001b[39;49m\u001b[43m)\u001b[49m\n",
            "File \u001b[0;32m~/.local/lib/python3.10/site-packages/IPython/core/interactiveshell.py:2456\u001b[0m, in \u001b[0;36mInteractiveShell.run_line_magic\u001b[0;34m(self, magic_name, line, _stack_depth)\u001b[0m\n\u001b[1;32m   2454\u001b[0m     kwargs[\u001b[38;5;124m'\u001b[39m\u001b[38;5;124mlocal_ns\u001b[39m\u001b[38;5;124m'\u001b[39m] \u001b[38;5;241m=\u001b[39m \u001b[38;5;28mself\u001b[39m\u001b[38;5;241m.\u001b[39mget_local_scope(stack_depth)\n\u001b[1;32m   2455\u001b[0m \u001b[38;5;28;01mwith\u001b[39;00m \u001b[38;5;28mself\u001b[39m\u001b[38;5;241m.\u001b[39mbuiltin_trap:\n\u001b[0;32m-> 2456\u001b[0m     result \u001b[38;5;241m=\u001b[39m \u001b[43mfn\u001b[49m\u001b[43m(\u001b[49m\u001b[38;5;241;43m*\u001b[39;49m\u001b[43margs\u001b[49m\u001b[43m,\u001b[49m\u001b[43m \u001b[49m\u001b[38;5;241;43m*\u001b[39;49m\u001b[38;5;241;43m*\u001b[39;49m\u001b[43mkwargs\u001b[49m\u001b[43m)\u001b[49m\n\u001b[1;32m   2458\u001b[0m \u001b[38;5;66;03m# The code below prevents the output from being displayed\u001b[39;00m\n\u001b[1;32m   2459\u001b[0m \u001b[38;5;66;03m# when using magics with decorator @output_can_be_silenced\u001b[39;00m\n\u001b[1;32m   2460\u001b[0m \u001b[38;5;66;03m# when the last Python token in the expression is a ';'.\u001b[39;00m\n\u001b[1;32m   2461\u001b[0m \u001b[38;5;28;01mif\u001b[39;00m \u001b[38;5;28mgetattr\u001b[39m(fn, magic\u001b[38;5;241m.\u001b[39mMAGIC_OUTPUT_CAN_BE_SILENCED, \u001b[38;5;28;01mFalse\u001b[39;00m):\n",
            "File \u001b[0;32m~/.local/lib/python3.10/site-packages/IPython/core/magics/packaging.py:26\u001b[0m, in \u001b[0;36mis_conda_environment.<locals>.wrapper\u001b[0;34m(*args, **kwargs)\u001b[0m\n\u001b[1;32m     24\u001b[0m \u001b[38;5;66;03m# TODO: does this need to change on windows?\u001b[39;00m\n\u001b[1;32m     25\u001b[0m \u001b[38;5;28;01mif\u001b[39;00m \u001b[38;5;129;01mnot\u001b[39;00m Path(sys\u001b[38;5;241m.\u001b[39mprefix, \u001b[38;5;124m\"\u001b[39m\u001b[38;5;124mconda-meta\u001b[39m\u001b[38;5;124m\"\u001b[39m, \u001b[38;5;124m\"\u001b[39m\u001b[38;5;124mhistory\u001b[39m\u001b[38;5;124m\"\u001b[39m)\u001b[38;5;241m.\u001b[39mexists():\n\u001b[0;32m---> 26\u001b[0m     \u001b[38;5;28;01mraise\u001b[39;00m \u001b[38;5;167;01mValueError\u001b[39;00m(\n\u001b[1;32m     27\u001b[0m         \u001b[38;5;124m\"\u001b[39m\u001b[38;5;124mThe python kernel does not appear to be a conda environment.  \u001b[39m\u001b[38;5;124m\"\u001b[39m\n\u001b[1;32m     28\u001b[0m         \u001b[38;5;124m\"\u001b[39m\u001b[38;5;124mPlease use ``\u001b[39m\u001b[38;5;124m%\u001b[39m\u001b[38;5;124mpip install`` instead.\u001b[39m\u001b[38;5;124m\"\u001b[39m\n\u001b[1;32m     29\u001b[0m     )\n\u001b[1;32m     30\u001b[0m \u001b[38;5;28;01mreturn\u001b[39;00m func(\u001b[38;5;241m*\u001b[39margs, \u001b[38;5;241m*\u001b[39m\u001b[38;5;241m*\u001b[39mkwargs)\n",
            "\u001b[0;31mValueError\u001b[0m: The python kernel does not appear to be a conda environment.  Please use ``%pip install`` instead."
          ]
        }
      ],
      "source": [
        "%conda list | grep pytorch"
      ]
    },
    {
      "cell_type": "code",
      "execution_count": 16,
      "metadata": {
        "id": "HSmL-mcBNwVy"
      },
      "outputs": [
        {
          "name": "stdout",
          "output_type": "stream",
          "text": [
            "Collecting Flask==1.1.2\n",
            "  Using cached Flask-1.1.2-py2.py3-none-any.whl (94 kB)\n",
            "Collecting Flask-Bootstrap==3.3.7.1\n",
            "  Downloading Flask-Bootstrap-3.3.7.1.tar.gz (456 kB)\n",
            "\u001b[2K     \u001b[90m━━━━━━━━━━━━━━━━━━━━━━━━━━━━━━━━━━━━━━\u001b[0m \u001b[32m456.4/456.4 kB\u001b[0m \u001b[31m57.5 kB/s\u001b[0m eta \u001b[36m0:00:00\u001b[0m00:01\u001b[0m00:01\u001b[0m\n",
            "\u001b[?25h  Preparing metadata (setup.py) ... \u001b[?25ldone\n",
            "\u001b[?25hCollecting Flask-Uploads==0.2.1\n",
            "  Downloading Flask-Uploads-0.2.1.tar.gz (7.6 kB)\n",
            "  Preparing metadata (setup.py) ... \u001b[?25ldone\n",
            "\u001b[?25hCollecting numpy==1.19.5\n",
            "  Downloading numpy-1.19.5-cp37-cp37m-manylinux2010_x86_64.whl (14.8 MB)\n",
            "\u001b[2K     \u001b[90m━━━━━━━━━━━━━━━━━━━━━━━━━━━━━━━━━━━━━━━━\u001b[0m \u001b[32m14.8/14.8 MB\u001b[0m \u001b[31m36.0 kB/s\u001b[0m eta \u001b[36m0:00:00\u001b[0m00:01\u001b[0m00:10\u001b[0m\n",
            "\u001b[?25hCollecting opencv-python==4.1.2.30\n",
            "  Downloading opencv_python-4.1.2.30-cp37-cp37m-manylinux1_x86_64.whl (28.3 MB)\n",
            "\u001b[2K     \u001b[90m━━━━━━━━━━━━━━━━━━━━━━━━━━━━━━━━━━━━━━━━\u001b[0m \u001b[32m28.3/28.3 MB\u001b[0m \u001b[31m30.3 kB/s\u001b[0m eta \u001b[36m0:00:00\u001b[0m00:01\u001b[0m00:20\u001b[0m\n",
            "\u001b[?25hCollecting pytorch-lightning==1.3.3\n",
            "  Downloading pytorch_lightning-1.3.3-py3-none-any.whl (806 kB)\n",
            "\u001b[2K     \u001b[90m━━━━━━━━━━━━━━━━━━━━━━━━━━━━━━━━━━━━━━\u001b[0m \u001b[32m806.2/806.2 kB\u001b[0m \u001b[31m52.4 kB/s\u001b[0m eta \u001b[36m0:00:00\u001b[0m00:01\u001b[0m00:01\u001b[0m\n",
            "\u001b[?25hRequirement already satisfied: torch==1.8.1 in /home/mcnlab/anaconda3/envs/har/lib/python3.7/site-packages (from -r requirements.txt (line 8)) (1.8.1)\n",
            "Requirement already satisfied: torchvision==0.9.1 in /home/mcnlab/anaconda3/envs/har/lib/python3.7/site-packages (from -r requirements.txt (line 9)) (0.9.1)\n",
            "Collecting pyyaml==5.1\n",
            "  Downloading PyYAML-5.1.tar.gz (274 kB)\n",
            "\u001b[2K     \u001b[90m━━━━━━━━━━━━━━━━━━━━━━━━━━━━━━━━━━━━━━\u001b[0m \u001b[32m274.2/274.2 kB\u001b[0m \u001b[31m48.8 kB/s\u001b[0m eta \u001b[36m0:00:00\u001b[0ma \u001b[36m0:00:01\u001b[0m\n",
            "\u001b[?25h  Preparing metadata (setup.py) ... \u001b[?25ldone\n",
            "\u001b[?25hCollecting Werkzeug==0.15.6\n",
            "  Downloading Werkzeug-0.15.6-py2.py3-none-any.whl (328 kB)\n",
            "\u001b[2K     \u001b[90m━━━━━━━━━━━━━━━━━━━━━━━━━━━━━━━━━━━━━━\u001b[0m \u001b[32m328.3/328.3 kB\u001b[0m \u001b[31m42.3 kB/s\u001b[0m eta \u001b[36m0:00:00\u001b[0ma \u001b[36m0:00:01\u001b[0m\n",
            "\u001b[?25hCollecting torchtext\n",
            "  Downloading torchtext-0.14.1-cp37-cp37m-manylinux1_x86_64.whl (2.0 MB)\n",
            "\u001b[2K     \u001b[90m━━━━━━━━━━━━━━━━━━━━━━━━━━━━━━━━━━━━━━━━\u001b[0m \u001b[32m2.0/2.0 MB\u001b[0m \u001b[31m37.5 kB/s\u001b[0m eta \u001b[36m0:00:00\u001b[0m00:01\u001b[0m00:02\u001b[0m\n",
            "\u001b[?25hCollecting click>=5.1\n",
            "  Using cached click-8.1.7-py3-none-any.whl (97 kB)\n",
            "Collecting Jinja2>=2.10.1\n",
            "  Downloading Jinja2-3.1.3-py3-none-any.whl (133 kB)\n",
            "\u001b[2K     \u001b[90m━━━━━━━━━━━━━━━━━━━━━━━━━━━━━━━━━━━━━━\u001b[0m \u001b[32m133.2/133.2 kB\u001b[0m \u001b[31m30.8 kB/s\u001b[0m eta \u001b[36m0:00:00\u001b[0ma \u001b[36m0:00:01\u001b[0m\n",
            "\u001b[?25hCollecting itsdangerous>=0.24\n",
            "  Downloading itsdangerous-2.1.2-py3-none-any.whl (15 kB)\n",
            "Collecting dominate\n",
            "  Downloading dominate-2.9.1-py2.py3-none-any.whl (29 kB)\n",
            "Collecting visitor\n",
            "  Downloading visitor-0.1.3.tar.gz (3.3 kB)\n",
            "  Preparing metadata (setup.py) ... \u001b[?25ldone\n",
            "\u001b[?25hRequirement already satisfied: tensorboard!=2.5.0,>=2.2.0 in /home/mcnlab/anaconda3/envs/har/lib/python3.7/site-packages (from pytorch-lightning==1.3.3->-r requirements.txt (line 7)) (2.11.2)\n",
            "Requirement already satisfied: torchmetrics>=0.2.0 in /home/mcnlab/anaconda3/envs/har/lib/python3.7/site-packages (from pytorch-lightning==1.3.3->-r requirements.txt (line 7)) (0.11.4)\n",
            "Requirement already satisfied: fsspec[http]>=2021.4.0 in /home/mcnlab/anaconda3/envs/har/lib/python3.7/site-packages (from pytorch-lightning==1.3.3->-r requirements.txt (line 7)) (2023.1.0)\n",
            "Requirement already satisfied: tqdm>=4.41.0 in /home/mcnlab/anaconda3/envs/har/lib/python3.7/site-packages (from pytorch-lightning==1.3.3->-r requirements.txt (line 7)) (4.66.2)\n",
            "Requirement already satisfied: packaging in /home/mcnlab/anaconda3/envs/har/lib/python3.7/site-packages (from pytorch-lightning==1.3.3->-r requirements.txt (line 7)) (24.0)\n",
            "Requirement already satisfied: future>=0.17.1 in /home/mcnlab/anaconda3/envs/har/lib/python3.7/site-packages (from pytorch-lightning==1.3.3->-r requirements.txt (line 7)) (1.0.0)\n",
            "Collecting pyDeprecate==0.3.0\n",
            "  Downloading pyDeprecate-0.3.0-py3-none-any.whl (10 kB)\n",
            "Requirement already satisfied: typing_extensions in /home/mcnlab/anaconda3/envs/har/lib/python3.7/site-packages (from torch==1.8.1->-r requirements.txt (line 8)) (4.4.0)\n",
            "Requirement already satisfied: pillow>=4.1.1 in /home/mcnlab/anaconda3/envs/har/lib/python3.7/site-packages (from torchvision==0.9.1->-r requirements.txt (line 9)) (9.3.0)\n",
            "Collecting torchtext\n",
            "  Downloading torchtext-0.14.0-cp37-cp37m-manylinux1_x86_64.whl (2.0 MB)\n",
            "\u001b[2K     \u001b[90m━━━━━━━━━━━━━━━━━━━━━━━━━━━━━━━━━━━━━━━━\u001b[0m \u001b[32m2.0/2.0 MB\u001b[0m \u001b[31m33.5 kB/s\u001b[0m eta \u001b[36m0:00:00\u001b[0m00:01\u001b[0m00:02\u001b[0m\n",
            "\u001b[?25h  Downloading torchtext-0.13.1-cp37-cp37m-manylinux1_x86_64.whl (1.9 MB)\n",
            "\u001b[2K     \u001b[90m━━━━━━━━━━━━━━━━━━━━━━━━━━━━━━━━━━━━━━━━\u001b[0m \u001b[32m1.9/1.9 MB\u001b[0m \u001b[31m41.5 kB/s\u001b[0m eta \u001b[36m0:00:00\u001b[0m00:01\u001b[0m00:02\u001b[0m\n",
            "\u001b[?25h  Downloading torchtext-0.13.0-cp37-cp37m-manylinux1_x86_64.whl (1.9 MB)\n",
            "\u001b[2K     \u001b[90m━━━━━━━━━━━━━━━━━━━━━━━━━━━━━━━━━━━━━━━━\u001b[0m \u001b[32m1.9/1.9 MB\u001b[0m \u001b[31m46.0 kB/s\u001b[0m eta \u001b[36m0:00:00\u001b[0m00:01\u001b[0m00:02\u001b[0m\n",
            "\u001b[?25h  Downloading torchtext-0.12.0-cp37-cp37m-manylinux1_x86_64.whl (10.4 MB)\n",
            "\u001b[2K     \u001b[90m━━━━━━━━━━━━━━━━━━━━━━━━━━━━━━━━━━━━━━━━\u001b[0m \u001b[32m10.4/10.4 MB\u001b[0m \u001b[31m47.4 kB/s\u001b[0m eta \u001b[36m0:00:00\u001b[0m00:01\u001b[0m00:06\u001b[0m\n",
            "\u001b[?25h  Downloading torchtext-0.11.2-cp37-cp37m-manylinux1_x86_64.whl (8.0 MB)\n",
            "\u001b[2K     \u001b[90m━━━━━━━━━━━━━━━━━━━━━━━━━━━━━━━━━━━━━━━━\u001b[0m \u001b[32m8.0/8.0 MB\u001b[0m \u001b[31m42.9 kB/s\u001b[0m eta \u001b[36m0:00:00\u001b[0m00:01\u001b[0m00:06\u001b[0m\n",
            "\u001b[?25h  Downloading torchtext-0.11.1-cp37-cp37m-manylinux1_x86_64.whl (8.0 MB)\n",
            "\u001b[2K     \u001b[90m━━━━━━━━━━━━━━━━━━━━━━━━━━━━━━━━━━━━━━━━\u001b[0m \u001b[32m8.0/8.0 MB\u001b[0m \u001b[31m36.9 kB/s\u001b[0m eta \u001b[36m0:00:00\u001b[0m00:01\u001b[0m00:06\u001b[0m\n",
            "\u001b[?25h  Downloading torchtext-0.11.0-cp37-cp37m-manylinux1_x86_64.whl (8.0 MB)\n",
            "\u001b[2K     \u001b[90m━━━━━━━━━━━━━━━━━━━━━━━━━━━━━━━━━━━━━━━━\u001b[0m \u001b[32m8.0/8.0 MB\u001b[0m \u001b[31m35.5 kB/s\u001b[0m eta \u001b[36m0:00:00\u001b[0m00:01\u001b[0m00:07\u001b[0m\n",
            "\u001b[?25h  Downloading torchtext-0.10.1-cp37-cp37m-manylinux1_x86_64.whl (7.6 MB)\n",
            "\u001b[2K     \u001b[90m━━━━━━━━━━━━━━━━━━━━━━━━━━━━━━━━━━━━━━━━\u001b[0m \u001b[32m7.6/7.6 MB\u001b[0m \u001b[31m58.4 kB/s\u001b[0m eta \u001b[36m0:00:00\u001b[0m00:01\u001b[0m00:04\u001b[0m\n",
            "\u001b[?25h  Downloading torchtext-0.10.0-cp37-cp37m-manylinux1_x86_64.whl (7.6 MB)\n",
            "\u001b[2K     \u001b[90m━━━━━━━━━━━━━━━━━━━━━━━━━━━━━━━━━━━━━━━━\u001b[0m \u001b[32m7.6/7.6 MB\u001b[0m \u001b[31m50.9 kB/s\u001b[0m eta \u001b[36m0:00:00\u001b[0m00:01\u001b[0m00:05\u001b[0m\n",
            "\u001b[?25h  Downloading torchtext-0.9.1-cp37-cp37m-manylinux1_x86_64.whl (7.1 MB)\n",
            "\u001b[2K     \u001b[90m━━━━━━━━━━━━━━━━━━━━━━━━━━━━━━━━━━━━━━━━\u001b[0m \u001b[32m7.1/7.1 MB\u001b[0m \u001b[31m72.2 kB/s\u001b[0m eta \u001b[36m0:00:00\u001b[0m00:01\u001b[0m00:03\u001b[0m\n",
            "\u001b[?25hRequirement already satisfied: requests in /home/mcnlab/anaconda3/envs/har/lib/python3.7/site-packages (from torchtext->-r requirements.txt (line 12)) (2.31.0)\n",
            "Requirement already satisfied: importlib-metadata in /home/mcnlab/anaconda3/envs/har/lib/python3.7/site-packages (from click>=5.1->Flask==1.1.2->-r requirements.txt (line 2)) (6.7.0)\n",
            "Requirement already satisfied: aiohttp!=4.0.0a0,!=4.0.0a1 in /home/mcnlab/anaconda3/envs/har/lib/python3.7/site-packages (from fsspec[http]>=2021.4.0->pytorch-lightning==1.3.3->-r requirements.txt (line 7)) (3.8.6)\n",
            "Requirement already satisfied: MarkupSafe>=2.0 in /home/mcnlab/anaconda3/envs/har/lib/python3.7/site-packages (from Jinja2>=2.10.1->Flask==1.1.2->-r requirements.txt (line 2)) (2.1.5)\n",
            "Requirement already satisfied: absl-py>=0.4 in /home/mcnlab/anaconda3/envs/har/lib/python3.7/site-packages (from tensorboard!=2.5.0,>=2.2.0->pytorch-lightning==1.3.3->-r requirements.txt (line 7)) (2.1.0)\n",
            "Requirement already satisfied: google-auth<3,>=1.6.3 in /home/mcnlab/anaconda3/envs/har/lib/python3.7/site-packages (from tensorboard!=2.5.0,>=2.2.0->pytorch-lightning==1.3.3->-r requirements.txt (line 7)) (2.29.0)\n",
            "Requirement already satisfied: tensorboard-plugin-wit>=1.6.0 in /home/mcnlab/anaconda3/envs/har/lib/python3.7/site-packages (from tensorboard!=2.5.0,>=2.2.0->pytorch-lightning==1.3.3->-r requirements.txt (line 7)) (1.8.1)\n",
            "Collecting tensorboard!=2.5.0,>=2.2.0\n",
            "  Downloading tensorboard-2.11.0-py3-none-any.whl (6.0 MB)\n",
            "\u001b[2K     \u001b[90m━━━━━━━━━━━━━━━━━━━━━━━━━━━━━━━━━━━━━━━━\u001b[0m \u001b[32m6.0/6.0 MB\u001b[0m \u001b[31m51.8 kB/s\u001b[0m eta \u001b[36m0:00:00\u001b[0m00:01\u001b[0m00:04\u001b[0m\n",
            "\u001b[?25h  Using cached tensorboard-2.10.1-py3-none-any.whl (5.9 MB)\n",
            "  Downloading tensorboard-2.10.0-py3-none-any.whl (5.9 MB)\n",
            "\u001b[2K     \u001b[90m━━━━━━━━━━━━━━━━━━━━━━━━━━━━━━━━━━━━━━━━\u001b[0m \u001b[32m5.9/5.9 MB\u001b[0m \u001b[31m45.8 kB/s\u001b[0m eta \u001b[36m0:00:00\u001b[0m00:01\u001b[0m00:04\u001b[0m\n",
            "\u001b[?25h  Downloading tensorboard-2.9.1-py3-none-any.whl (5.8 MB)\n",
            "\u001b[2K     \u001b[90m━━━━━━━━━━━━━━━━━━━━━━━━━━━━━━━━━━━━━━━━\u001b[0m \u001b[32m5.8/5.8 MB\u001b[0m \u001b[31m45.6 kB/s\u001b[0m eta \u001b[36m0:00:00\u001b[0m00:01\u001b[0m00:04\u001b[0m\n",
            "\u001b[?25h  Downloading tensorboard-2.9.0-py3-none-any.whl (5.8 MB)\n",
            "\u001b[2K     \u001b[90m━━━━━━━━━━━━━━━━━━━━━━━━━━━━━━━━━━━━━━━━\u001b[0m \u001b[32m5.8/5.8 MB\u001b[0m \u001b[31m40.8 kB/s\u001b[0m eta \u001b[36m0:00:00\u001b[0m00:01\u001b[0m00:05\u001b[0m\n",
            "\u001b[?25h  Downloading tensorboard-2.8.0-py3-none-any.whl (5.8 MB)\n",
            "\u001b[2K     \u001b[90m━━━━━━━━━━━━━━━━━━━━━━━━━━━━━━━━━━━━━━━━\u001b[0m \u001b[32m5.8/5.8 MB\u001b[0m \u001b[31m43.3 kB/s\u001b[0m eta \u001b[36m0:00:00\u001b[0m00:01\u001b[0m00:04\u001b[0m\n",
            "\u001b[?25hRequirement already satisfied: protobuf>=3.6.0 in /home/mcnlab/anaconda3/envs/har/lib/python3.7/site-packages (from tensorboard!=2.5.0,>=2.2.0->pytorch-lightning==1.3.3->-r requirements.txt (line 7)) (3.20.3)\n",
            "Requirement already satisfied: markdown>=2.6.8 in /home/mcnlab/anaconda3/envs/har/lib/python3.7/site-packages (from tensorboard!=2.5.0,>=2.2.0->pytorch-lightning==1.3.3->-r requirements.txt (line 7)) (3.4.4)\n",
            "Requirement already satisfied: wheel>=0.26 in /home/mcnlab/anaconda3/envs/har/lib/python3.7/site-packages (from tensorboard!=2.5.0,>=2.2.0->pytorch-lightning==1.3.3->-r requirements.txt (line 7)) (0.38.4)\n",
            "Requirement already satisfied: tensorboard-data-server<0.7.0,>=0.6.0 in /home/mcnlab/anaconda3/envs/har/lib/python3.7/site-packages (from tensorboard!=2.5.0,>=2.2.0->pytorch-lightning==1.3.3->-r requirements.txt (line 7)) (0.6.1)\n",
            "Requirement already satisfied: google-auth-oauthlib<0.5,>=0.4.1 in /home/mcnlab/anaconda3/envs/har/lib/python3.7/site-packages (from tensorboard!=2.5.0,>=2.2.0->pytorch-lightning==1.3.3->-r requirements.txt (line 7)) (0.4.6)\n",
            "Requirement already satisfied: grpcio>=1.24.3 in /home/mcnlab/anaconda3/envs/har/lib/python3.7/site-packages (from tensorboard!=2.5.0,>=2.2.0->pytorch-lightning==1.3.3->-r requirements.txt (line 7)) (1.62.1)\n",
            "Requirement already satisfied: setuptools>=41.0.0 in /home/mcnlab/anaconda3/envs/har/lib/python3.7/site-packages (from tensorboard!=2.5.0,>=2.2.0->pytorch-lightning==1.3.3->-r requirements.txt (line 7)) (65.6.3)\n",
            "Requirement already satisfied: urllib3<3,>=1.21.1 in /home/mcnlab/anaconda3/envs/har/lib/python3.7/site-packages (from requests->torchtext->-r requirements.txt (line 12)) (2.0.7)\n",
            "Requirement already satisfied: certifi>=2017.4.17 in /home/mcnlab/anaconda3/envs/har/lib/python3.7/site-packages (from requests->torchtext->-r requirements.txt (line 12)) (2022.12.7)\n",
            "Requirement already satisfied: idna<4,>=2.5 in /home/mcnlab/anaconda3/envs/har/lib/python3.7/site-packages (from requests->torchtext->-r requirements.txt (line 12)) (3.6)\n",
            "Requirement already satisfied: charset-normalizer<4,>=2 in /home/mcnlab/anaconda3/envs/har/lib/python3.7/site-packages (from requests->torchtext->-r requirements.txt (line 12)) (3.3.2)\n",
            "Requirement already satisfied: attrs>=17.3.0 in /home/mcnlab/anaconda3/envs/har/lib/python3.7/site-packages (from aiohttp!=4.0.0a0,!=4.0.0a1->fsspec[http]>=2021.4.0->pytorch-lightning==1.3.3->-r requirements.txt (line 7)) (23.2.0)\n",
            "Requirement already satisfied: frozenlist>=1.1.1 in /home/mcnlab/anaconda3/envs/har/lib/python3.7/site-packages (from aiohttp!=4.0.0a0,!=4.0.0a1->fsspec[http]>=2021.4.0->pytorch-lightning==1.3.3->-r requirements.txt (line 7)) (1.3.3)\n",
            "Requirement already satisfied: multidict<7.0,>=4.5 in /home/mcnlab/anaconda3/envs/har/lib/python3.7/site-packages (from aiohttp!=4.0.0a0,!=4.0.0a1->fsspec[http]>=2021.4.0->pytorch-lightning==1.3.3->-r requirements.txt (line 7)) (6.0.5)\n",
            "Requirement already satisfied: asynctest==0.13.0 in /home/mcnlab/anaconda3/envs/har/lib/python3.7/site-packages (from aiohttp!=4.0.0a0,!=4.0.0a1->fsspec[http]>=2021.4.0->pytorch-lightning==1.3.3->-r requirements.txt (line 7)) (0.13.0)\n",
            "Requirement already satisfied: yarl<2.0,>=1.0 in /home/mcnlab/anaconda3/envs/har/lib/python3.7/site-packages (from aiohttp!=4.0.0a0,!=4.0.0a1->fsspec[http]>=2021.4.0->pytorch-lightning==1.3.3->-r requirements.txt (line 7)) (1.9.4)\n",
            "Requirement already satisfied: aiosignal>=1.1.2 in /home/mcnlab/anaconda3/envs/har/lib/python3.7/site-packages (from aiohttp!=4.0.0a0,!=4.0.0a1->fsspec[http]>=2021.4.0->pytorch-lightning==1.3.3->-r requirements.txt (line 7)) (1.3.1)\n",
            "Requirement already satisfied: async-timeout<5.0,>=4.0.0a3 in /home/mcnlab/anaconda3/envs/har/lib/python3.7/site-packages (from aiohttp!=4.0.0a0,!=4.0.0a1->fsspec[http]>=2021.4.0->pytorch-lightning==1.3.3->-r requirements.txt (line 7)) (4.0.3)\n",
            "Requirement already satisfied: rsa<5,>=3.1.4 in /home/mcnlab/anaconda3/envs/har/lib/python3.7/site-packages (from google-auth<3,>=1.6.3->tensorboard!=2.5.0,>=2.2.0->pytorch-lightning==1.3.3->-r requirements.txt (line 7)) (4.9)\n",
            "Requirement already satisfied: pyasn1-modules>=0.2.1 in /home/mcnlab/anaconda3/envs/har/lib/python3.7/site-packages (from google-auth<3,>=1.6.3->tensorboard!=2.5.0,>=2.2.0->pytorch-lightning==1.3.3->-r requirements.txt (line 7)) (0.3.0)\n",
            "Requirement already satisfied: cachetools<6.0,>=2.0.0 in /home/mcnlab/anaconda3/envs/har/lib/python3.7/site-packages (from google-auth<3,>=1.6.3->tensorboard!=2.5.0,>=2.2.0->pytorch-lightning==1.3.3->-r requirements.txt (line 7)) (5.3.3)\n",
            "Requirement already satisfied: requests-oauthlib>=0.7.0 in /home/mcnlab/anaconda3/envs/har/lib/python3.7/site-packages (from google-auth-oauthlib<0.5,>=0.4.1->tensorboard!=2.5.0,>=2.2.0->pytorch-lightning==1.3.3->-r requirements.txt (line 7)) (2.0.0)\n",
            "Requirement already satisfied: zipp>=0.5 in /home/mcnlab/anaconda3/envs/har/lib/python3.7/site-packages (from importlib-metadata->click>=5.1->Flask==1.1.2->-r requirements.txt (line 2)) (3.15.0)\n",
            "Requirement already satisfied: pyasn1<0.6.0,>=0.4.6 in /home/mcnlab/anaconda3/envs/har/lib/python3.7/site-packages (from pyasn1-modules>=0.2.1->google-auth<3,>=1.6.3->tensorboard!=2.5.0,>=2.2.0->pytorch-lightning==1.3.3->-r requirements.txt (line 7)) (0.5.1)\n",
            "Requirement already satisfied: oauthlib>=3.0.0 in /home/mcnlab/anaconda3/envs/har/lib/python3.7/site-packages (from requests-oauthlib>=0.7.0->google-auth-oauthlib<0.5,>=0.4.1->tensorboard!=2.5.0,>=2.2.0->pytorch-lightning==1.3.3->-r requirements.txt (line 7)) (3.2.2)\n",
            "Building wheels for collected packages: Flask-Bootstrap, Flask-Uploads, pyyaml, visitor\n",
            "  Building wheel for Flask-Bootstrap (setup.py) ... \u001b[?25ldone\n",
            "\u001b[?25h  Created wheel for Flask-Bootstrap: filename=Flask_Bootstrap-3.3.7.1-py3-none-any.whl size=460122 sha256=fa877e8801d8805def78d3f68c1054e26c262ba5736f5836a41efcadc5730a2b\n",
            "  Stored in directory: /home/mcnlab/.cache/pip/wheels/79/80/96/748340f51b058ac07d16e4b0c52fb7b15038b7d1a1ab3fa37f\n",
            "  Building wheel for Flask-Uploads (setup.py) ... \u001b[?25ldone\n",
            "\u001b[?25h  Created wheel for Flask-Uploads: filename=Flask_Uploads-0.2.1-py3-none-any.whl size=8067 sha256=ab7a19cc1f4670ae24d30a69583b9a94f96caa86a83eb1e954091b4b1e864524\n",
            "  Stored in directory: /home/mcnlab/.cache/pip/wheels/f0/e2/23/b2bb32e8109e8082a0c6b41387c9bdffe4fd69e4b58c84c805\n",
            "  Building wheel for pyyaml (setup.py) ... \u001b[?25ldone\n",
            "\u001b[?25h  Created wheel for pyyaml: filename=PyYAML-5.1-cp37-cp37m-linux_x86_64.whl size=471799 sha256=3824e86c648720d17eb7ecce68b9c0b84f5cd0a9c8e6532b821db4ae677aeb86\n",
            "  Stored in directory: /home/mcnlab/.cache/pip/wheels/37/d0/7b/970c331404e286cba3221c59967d311ee0db0202407385fe30\n",
            "  Building wheel for visitor (setup.py) ... \u001b[?25ldone\n",
            "\u001b[?25h  Created wheel for visitor: filename=visitor-0.1.3-py3-none-any.whl size=3926 sha256=fdb73d5fd69d065f5f2b880480a50fa29501ee9ab46a001373aab6d8076d259a\n",
            "  Stored in directory: /home/mcnlab/.cache/pip/wheels/61/07/02/c7b1c78ef18469de897f3ba6cec9edcf9813ef19b5db2b8265\n",
            "Successfully built Flask-Bootstrap Flask-Uploads pyyaml visitor\n",
            "Installing collected packages: visitor, Werkzeug, pyyaml, pyDeprecate, numpy, Jinja2, itsdangerous, dominate, opencv-python, click, torchtext, Flask, tensorboard, Flask-Uploads, Flask-Bootstrap, pytorch-lightning\n",
            "  Attempting uninstall: Werkzeug\n",
            "    Found existing installation: Werkzeug 2.2.3\n",
            "    Uninstalling Werkzeug-2.2.3:\n",
            "      Successfully uninstalled Werkzeug-2.2.3\n",
            "  Attempting uninstall: pyyaml\n",
            "    Found existing installation: PyYAML 6.0.1\n",
            "    Uninstalling PyYAML-6.0.1:\n",
            "      Successfully uninstalled PyYAML-6.0.1\n",
            "  Attempting uninstall: pyDeprecate\n",
            "    Found existing installation: pyDeprecate 0.3.1\n",
            "    Uninstalling pyDeprecate-0.3.1:\n",
            "      Successfully uninstalled pyDeprecate-0.3.1\n",
            "  Attempting uninstall: numpy\n",
            "    Found existing installation: numpy 1.21.5\n",
            "    Uninstalling numpy-1.21.5:\n",
            "      Successfully uninstalled numpy-1.21.5\n",
            "  Attempting uninstall: tensorboard\n",
            "    Found existing installation: tensorboard 2.11.2\n",
            "    Uninstalling tensorboard-2.11.2:\n",
            "      Successfully uninstalled tensorboard-2.11.2\n",
            "  Attempting uninstall: pytorch-lightning\n",
            "    Found existing installation: pytorch-lightning 1.4.0\n",
            "    Uninstalling pytorch-lightning-1.4.0:\n",
            "      Successfully uninstalled pytorch-lightning-1.4.0\n",
            "Successfully installed Flask-1.1.2 Flask-Bootstrap-3.3.7.1 Flask-Uploads-0.2.1 Jinja2-3.1.3 Werkzeug-0.15.6 click-8.1.7 dominate-2.9.1 itsdangerous-2.1.2 numpy-1.19.5 opencv-python-4.1.2.30 pyDeprecate-0.3.0 pytorch-lightning-1.3.3 pyyaml-5.1 tensorboard-2.8.0 torchtext-0.9.1 visitor-0.1.3\n",
            "Note: you may need to restart the kernel to use updated packages.\n"
          ]
        }
      ],
      "source": [
        "%pip install -r requirements.txt"
      ]
    },
    {
      "cell_type": "markdown",
      "metadata": {
        "id": "7UZwJol0BjEd"
      },
      "source": [
        "**Install Detectron2**"
      ]
    },
    {
      "cell_type": "code",
      "execution_count": 34,
      "metadata": {
        "id": "b8-t47lVLSFl"
      },
      "outputs": [
        {
          "name": "stdout",
          "output_type": "stream",
          "text": [
            "True\n",
            "Looking in links: https://dl.fbaipublicfiles.com/detectron2/wheels/cu102/torch1.8/index.html\n",
            "Collecting detectron2\n",
            "  Downloading https://dl.fbaipublicfiles.com/detectron2/wheels/cu102/torch1.8/detectron2-0.6%2Bcu102-cp37-cp37m-linux_x86_64.whl (6.3 MB)\n",
            "\u001b[2K     \u001b[90m━━━━━━━━━━━━━━━━━━━━━━━━━━━━━━━━━━━━━━━━\u001b[0m \u001b[32m6.3/6.3 MB\u001b[0m \u001b[31m7.2 MB/s\u001b[0m eta \u001b[36m0:00:00\u001b[0m00:01\u001b[0m00:01\u001b[0m\n",
            "\u001b[?25hRequirement already satisfied: tqdm>4.29.0 in /home/mcnlab/anaconda3/envs/har/lib/python3.7/site-packages (from detectron2) (4.66.2)\n",
            "Requirement already satisfied: termcolor>=1.1 in /home/mcnlab/anaconda3/envs/har/lib/python3.7/site-packages (from detectron2) (2.3.0)\n",
            "Requirement already satisfied: future in /home/mcnlab/anaconda3/envs/har/lib/python3.7/site-packages (from detectron2) (1.0.0)\n",
            "Requirement already satisfied: omegaconf>=2.1 in /home/mcnlab/anaconda3/envs/har/lib/python3.7/site-packages (from detectron2) (2.3.0)\n",
            "Requirement already satisfied: matplotlib in /home/mcnlab/anaconda3/envs/har/lib/python3.7/site-packages (from detectron2) (3.5.3)\n",
            "Requirement already satisfied: fvcore<0.1.6,>=0.1.5 in /home/mcnlab/anaconda3/envs/har/lib/python3.7/site-packages (from detectron2) (0.1.5.post20221221)\n",
            "Requirement already satisfied: hydra-core>=1.1 in /home/mcnlab/anaconda3/envs/har/lib/python3.7/site-packages (from detectron2) (1.3.2)\n",
            "Requirement already satisfied: black==21.4b2 in /home/mcnlab/anaconda3/envs/har/lib/python3.7/site-packages (from detectron2) (21.4b2)\n",
            "Requirement already satisfied: tabulate in /home/mcnlab/anaconda3/envs/har/lib/python3.7/site-packages (from detectron2) (0.9.0)\n",
            "Requirement already satisfied: pycocotools>=2.0.2 in /home/mcnlab/anaconda3/envs/har/lib/python3.7/site-packages (from detectron2) (2.0.7)\n",
            "Requirement already satisfied: tensorboard in /home/mcnlab/anaconda3/envs/har/lib/python3.7/site-packages (from detectron2) (2.8.0)\n",
            "Requirement already satisfied: cloudpickle in /home/mcnlab/anaconda3/envs/har/lib/python3.7/site-packages (from detectron2) (2.2.1)\n",
            "Requirement already satisfied: iopath<0.1.10,>=0.1.7 in /home/mcnlab/anaconda3/envs/har/lib/python3.7/site-packages (from detectron2) (0.1.9)\n",
            "Requirement already satisfied: yacs>=0.1.8 in /home/mcnlab/anaconda3/envs/har/lib/python3.7/site-packages (from detectron2) (0.1.8)\n",
            "Requirement already satisfied: Pillow>=7.1 in /home/mcnlab/anaconda3/envs/har/lib/python3.7/site-packages (from detectron2) (9.3.0)\n",
            "Requirement already satisfied: pydot in /home/mcnlab/anaconda3/envs/har/lib/python3.7/site-packages (from detectron2) (2.0.0)\n",
            "Requirement already satisfied: typing-extensions>=3.7.4 in /home/mcnlab/anaconda3/envs/har/lib/python3.7/site-packages (from black==21.4b2->detectron2) (4.4.0)\n",
            "Requirement already satisfied: pathspec<1,>=0.8.1 in /home/mcnlab/anaconda3/envs/har/lib/python3.7/site-packages (from black==21.4b2->detectron2) (0.11.2)\n",
            "Requirement already satisfied: regex>=2020.1.8 in /home/mcnlab/anaconda3/envs/har/lib/python3.7/site-packages (from black==21.4b2->detectron2) (2023.12.25)\n",
            "Requirement already satisfied: toml>=0.10.1 in /home/mcnlab/anaconda3/envs/har/lib/python3.7/site-packages (from black==21.4b2->detectron2) (0.10.2)\n",
            "Requirement already satisfied: typed-ast>=1.4.2 in /home/mcnlab/anaconda3/envs/har/lib/python3.7/site-packages (from black==21.4b2->detectron2) (1.5.5)\n",
            "Requirement already satisfied: appdirs in /home/mcnlab/anaconda3/envs/har/lib/python3.7/site-packages (from black==21.4b2->detectron2) (1.4.4)\n",
            "Requirement already satisfied: mypy-extensions>=0.4.3 in /home/mcnlab/anaconda3/envs/har/lib/python3.7/site-packages (from black==21.4b2->detectron2) (1.0.0)\n",
            "Requirement already satisfied: click>=7.1.2 in /home/mcnlab/anaconda3/envs/har/lib/python3.7/site-packages (from black==21.4b2->detectron2) (8.1.7)\n",
            "Requirement already satisfied: pyyaml>=5.1 in /home/mcnlab/anaconda3/envs/har/lib/python3.7/site-packages (from fvcore<0.1.6,>=0.1.5->detectron2) (5.1)\n",
            "Requirement already satisfied: numpy in /home/mcnlab/anaconda3/envs/har/lib/python3.7/site-packages (from fvcore<0.1.6,>=0.1.5->detectron2) (1.19.5)\n",
            "Requirement already satisfied: antlr4-python3-runtime==4.9.* in /home/mcnlab/anaconda3/envs/har/lib/python3.7/site-packages (from hydra-core>=1.1->detectron2) (4.9.3)\n",
            "Requirement already satisfied: packaging in /home/mcnlab/anaconda3/envs/har/lib/python3.7/site-packages (from hydra-core>=1.1->detectron2) (24.0)\n",
            "Requirement already satisfied: importlib-resources in /home/mcnlab/anaconda3/envs/har/lib/python3.7/site-packages (from hydra-core>=1.1->detectron2) (5.12.0)\n",
            "Requirement already satisfied: portalocker in /home/mcnlab/anaconda3/envs/har/lib/python3.7/site-packages (from iopath<0.1.10,>=0.1.7->detectron2) (2.7.0)\n",
            "Requirement already satisfied: fonttools>=4.22.0 in /home/mcnlab/anaconda3/envs/har/lib/python3.7/site-packages (from matplotlib->detectron2) (4.38.0)\n",
            "Requirement already satisfied: cycler>=0.10 in /home/mcnlab/anaconda3/envs/har/lib/python3.7/site-packages (from matplotlib->detectron2) (0.11.0)\n",
            "Requirement already satisfied: kiwisolver>=1.0.1 in /home/mcnlab/anaconda3/envs/har/lib/python3.7/site-packages (from matplotlib->detectron2) (1.4.5)\n",
            "Requirement already satisfied: pyparsing>=2.2.1 in /home/mcnlab/anaconda3/envs/har/lib/python3.7/site-packages (from matplotlib->detectron2) (3.1.2)\n",
            "Requirement already satisfied: python-dateutil>=2.7 in /home/mcnlab/anaconda3/envs/har/lib/python3.7/site-packages (from matplotlib->detectron2) (2.9.0.post0)\n",
            "Requirement already satisfied: tensorboard-plugin-wit>=1.6.0 in /home/mcnlab/anaconda3/envs/har/lib/python3.7/site-packages (from tensorboard->detectron2) (1.8.1)\n",
            "Requirement already satisfied: tensorboard-data-server<0.7.0,>=0.6.0 in /home/mcnlab/anaconda3/envs/har/lib/python3.7/site-packages (from tensorboard->detectron2) (0.6.1)\n",
            "Requirement already satisfied: requests<3,>=2.21.0 in /home/mcnlab/anaconda3/envs/har/lib/python3.7/site-packages (from tensorboard->detectron2) (2.31.0)\n",
            "Requirement already satisfied: grpcio>=1.24.3 in /home/mcnlab/anaconda3/envs/har/lib/python3.7/site-packages (from tensorboard->detectron2) (1.62.1)\n",
            "Requirement already satisfied: werkzeug>=0.11.15 in /home/mcnlab/anaconda3/envs/har/lib/python3.7/site-packages (from tensorboard->detectron2) (2.2.3)\n",
            "Requirement already satisfied: absl-py>=0.4 in /home/mcnlab/anaconda3/envs/har/lib/python3.7/site-packages (from tensorboard->detectron2) (2.1.0)\n",
            "Requirement already satisfied: google-auth-oauthlib<0.5,>=0.4.1 in /home/mcnlab/anaconda3/envs/har/lib/python3.7/site-packages (from tensorboard->detectron2) (0.4.6)\n",
            "Requirement already satisfied: markdown>=2.6.8 in /home/mcnlab/anaconda3/envs/har/lib/python3.7/site-packages (from tensorboard->detectron2) (3.4.4)\n",
            "Requirement already satisfied: setuptools>=41.0.0 in /home/mcnlab/anaconda3/envs/har/lib/python3.7/site-packages (from tensorboard->detectron2) (65.6.3)\n",
            "Requirement already satisfied: wheel>=0.26 in /home/mcnlab/anaconda3/envs/har/lib/python3.7/site-packages (from tensorboard->detectron2) (0.38.4)\n",
            "Requirement already satisfied: google-auth<3,>=1.6.3 in /home/mcnlab/anaconda3/envs/har/lib/python3.7/site-packages (from tensorboard->detectron2) (2.29.0)\n",
            "Requirement already satisfied: protobuf>=3.6.0 in /home/mcnlab/anaconda3/envs/har/lib/python3.7/site-packages (from tensorboard->detectron2) (3.20.3)\n",
            "Requirement already satisfied: importlib-metadata in /home/mcnlab/anaconda3/envs/har/lib/python3.7/site-packages (from click>=7.1.2->black==21.4b2->detectron2) (6.7.0)\n",
            "Requirement already satisfied: cachetools<6.0,>=2.0.0 in /home/mcnlab/anaconda3/envs/har/lib/python3.7/site-packages (from google-auth<3,>=1.6.3->tensorboard->detectron2) (5.3.3)\n",
            "Requirement already satisfied: pyasn1-modules>=0.2.1 in /home/mcnlab/anaconda3/envs/har/lib/python3.7/site-packages (from google-auth<3,>=1.6.3->tensorboard->detectron2) (0.3.0)\n",
            "Requirement already satisfied: rsa<5,>=3.1.4 in /home/mcnlab/anaconda3/envs/har/lib/python3.7/site-packages (from google-auth<3,>=1.6.3->tensorboard->detectron2) (4.9)\n",
            "Requirement already satisfied: requests-oauthlib>=0.7.0 in /home/mcnlab/anaconda3/envs/har/lib/python3.7/site-packages (from google-auth-oauthlib<0.5,>=0.4.1->tensorboard->detectron2) (2.0.0)\n",
            "Requirement already satisfied: six>=1.5 in /home/mcnlab/anaconda3/envs/har/lib/python3.7/site-packages (from python-dateutil>=2.7->matplotlib->detectron2) (1.16.0)\n",
            "Requirement already satisfied: certifi>=2017.4.17 in /home/mcnlab/anaconda3/envs/har/lib/python3.7/site-packages (from requests<3,>=2.21.0->tensorboard->detectron2) (2022.12.7)\n",
            "Requirement already satisfied: charset-normalizer<4,>=2 in /home/mcnlab/anaconda3/envs/har/lib/python3.7/site-packages (from requests<3,>=2.21.0->tensorboard->detectron2) (3.3.2)\n",
            "Requirement already satisfied: urllib3<3,>=1.21.1 in /home/mcnlab/anaconda3/envs/har/lib/python3.7/site-packages (from requests<3,>=2.21.0->tensorboard->detectron2) (2.0.7)\n",
            "Requirement already satisfied: idna<4,>=2.5 in /home/mcnlab/anaconda3/envs/har/lib/python3.7/site-packages (from requests<3,>=2.21.0->tensorboard->detectron2) (3.6)\n",
            "Requirement already satisfied: MarkupSafe>=2.1.1 in /home/mcnlab/anaconda3/envs/har/lib/python3.7/site-packages (from werkzeug>=0.11.15->tensorboard->detectron2) (2.1.5)\n",
            "Requirement already satisfied: zipp>=3.1.0 in /home/mcnlab/anaconda3/envs/har/lib/python3.7/site-packages (from importlib-resources->hydra-core>=1.1->detectron2) (3.15.0)\n",
            "Requirement already satisfied: pyasn1<0.6.0,>=0.4.6 in /home/mcnlab/anaconda3/envs/har/lib/python3.7/site-packages (from pyasn1-modules>=0.2.1->google-auth<3,>=1.6.3->tensorboard->detectron2) (0.5.1)\n",
            "Requirement already satisfied: oauthlib>=3.0.0 in /home/mcnlab/anaconda3/envs/har/lib/python3.7/site-packages (from requests-oauthlib>=0.7.0->google-auth-oauthlib<0.5,>=0.4.1->tensorboard->detectron2) (3.2.2)\n",
            "Installing collected packages: detectron2\n",
            "Successfully installed detectron2-0.6+cu102\n",
            "Note: you may need to restart the kernel to use updated packages.\n"
          ]
        }
      ],
      "source": [
        "import torch\n",
        "assert torch.__version__.startswith(\"1.8\")   # need to manually install torch 1.8 if Colab changes its default version\n",
        "print(torch.cuda.is_available())\n",
        "# %pip uninstall detectron2\n",
        "%pip install detectron2 -f https://dl.fbaipublicfiles.com/detectron2/wheels/cu102/torch1.8/index.html"
      ]
    },
    {
      "cell_type": "markdown",
      "metadata": {
        "id": "RoSs4KvnRT4F"
      },
      "source": [
        "**Install ngrok for tunneling to the web application we are about to run on colab**"
      ]
    },
    {
      "cell_type": "code",
      "execution_count": 35,
      "metadata": {
        "id": "TyVT0SqKLgso"
      },
      "outputs": [],
      "source": [
        "# Download ngrok for tunneling.\n",
        "!if [ ! -f ./ngrok ]; then \\\n",
        " wget https://bin.equinox.io/c/4VmDzA7iaHb/ngrok-stable-linux-amd64.zip; \\\n",
        " unzip -o ngrok-stable-linux-amd64.zip; \\\n",
        " fi"
      ]
    },
    {
      "cell_type": "code",
      "execution_count": 36,
      "metadata": {
        "id": "hMxzllRCLkoz"
      },
      "outputs": [
        {
          "name": "stderr",
          "output_type": "stream",
          "text": [
            "\n",
            "KeyboardInterrupt\n",
            "\n"
          ]
        }
      ],
      "source": [
        "# Then start a mini web server.\n",
        "port = 5000\n",
        "!pkill ngrok\n",
        "!kill $(ps x | grep -v grep | grep http.server | awk '{print $1}') 2>/dev/null\n",
        "\n",
        "get_ipython().system_raw(\n",
        "    'python app.py && python3 -m http.server {} &'\n",
        "    .format(port)\n",
        ")\n",
        "\n",
        "# And, forward the port using ngrok.\n",
        "get_ipython().system_raw('./ngrok http {} &'.format(port))"
      ]
    },
    {
      "cell_type": "markdown",
      "metadata": {
        "id": "qWbee0wJRjSH"
      },
      "source": [
        "**Copy the app url generated from the below step**"
      ]
    },
    {
      "cell_type": "code",
      "execution_count": 37,
      "metadata": {
        "id": "QK-kQbr6LohX"
      },
      "outputs": [
        {
          "ename": "URLError",
          "evalue": "<urlopen error [Errno 111] Connection refused>",
          "output_type": "error",
          "traceback": [
            "\u001b[0;31m---------------------------------------------------------------------------\u001b[0m",
            "\u001b[0;31mConnectionRefusedError\u001b[0m                    Traceback (most recent call last)",
            "\u001b[0;32m~/anaconda3/envs/har/lib/python3.7/urllib/request.py\u001b[0m in \u001b[0;36mdo_open\u001b[0;34m(self, http_class, req, **http_conn_args)\u001b[0m\n\u001b[1;32m   1349\u001b[0m                 h.request(req.get_method(), req.selector, req.data, headers,\n\u001b[0;32m-> 1350\u001b[0;31m                           encode_chunked=req.has_header('Transfer-encoding'))\n\u001b[0m\u001b[1;32m   1351\u001b[0m             \u001b[0;32mexcept\u001b[0m \u001b[0mOSError\u001b[0m \u001b[0;32mas\u001b[0m \u001b[0merr\u001b[0m\u001b[0;34m:\u001b[0m \u001b[0;31m# timeout error\u001b[0m\u001b[0;34m\u001b[0m\u001b[0;34m\u001b[0m\u001b[0m\n",
            "\u001b[0;32m~/anaconda3/envs/har/lib/python3.7/http/client.py\u001b[0m in \u001b[0;36mrequest\u001b[0;34m(self, method, url, body, headers, encode_chunked)\u001b[0m\n\u001b[1;32m   1280\u001b[0m         \u001b[0;34m\"\"\"Send a complete request to the server.\"\"\"\u001b[0m\u001b[0;34m\u001b[0m\u001b[0;34m\u001b[0m\u001b[0m\n\u001b[0;32m-> 1281\u001b[0;31m         \u001b[0mself\u001b[0m\u001b[0;34m.\u001b[0m\u001b[0m_send_request\u001b[0m\u001b[0;34m(\u001b[0m\u001b[0mmethod\u001b[0m\u001b[0;34m,\u001b[0m \u001b[0murl\u001b[0m\u001b[0;34m,\u001b[0m \u001b[0mbody\u001b[0m\u001b[0;34m,\u001b[0m \u001b[0mheaders\u001b[0m\u001b[0;34m,\u001b[0m \u001b[0mencode_chunked\u001b[0m\u001b[0;34m)\u001b[0m\u001b[0;34m\u001b[0m\u001b[0;34m\u001b[0m\u001b[0m\n\u001b[0m\u001b[1;32m   1282\u001b[0m \u001b[0;34m\u001b[0m\u001b[0m\n",
            "\u001b[0;32m~/anaconda3/envs/har/lib/python3.7/http/client.py\u001b[0m in \u001b[0;36m_send_request\u001b[0;34m(self, method, url, body, headers, encode_chunked)\u001b[0m\n\u001b[1;32m   1326\u001b[0m             \u001b[0mbody\u001b[0m \u001b[0;34m=\u001b[0m \u001b[0m_encode\u001b[0m\u001b[0;34m(\u001b[0m\u001b[0mbody\u001b[0m\u001b[0;34m,\u001b[0m \u001b[0;34m'body'\u001b[0m\u001b[0;34m)\u001b[0m\u001b[0;34m\u001b[0m\u001b[0;34m\u001b[0m\u001b[0m\n\u001b[0;32m-> 1327\u001b[0;31m         \u001b[0mself\u001b[0m\u001b[0;34m.\u001b[0m\u001b[0mendheaders\u001b[0m\u001b[0;34m(\u001b[0m\u001b[0mbody\u001b[0m\u001b[0;34m,\u001b[0m \u001b[0mencode_chunked\u001b[0m\u001b[0;34m=\u001b[0m\u001b[0mencode_chunked\u001b[0m\u001b[0;34m)\u001b[0m\u001b[0;34m\u001b[0m\u001b[0;34m\u001b[0m\u001b[0m\n\u001b[0m\u001b[1;32m   1328\u001b[0m \u001b[0;34m\u001b[0m\u001b[0m\n",
            "\u001b[0;32m~/anaconda3/envs/har/lib/python3.7/http/client.py\u001b[0m in \u001b[0;36mendheaders\u001b[0;34m(self, message_body, encode_chunked)\u001b[0m\n\u001b[1;32m   1275\u001b[0m             \u001b[0;32mraise\u001b[0m \u001b[0mCannotSendHeader\u001b[0m\u001b[0;34m(\u001b[0m\u001b[0;34m)\u001b[0m\u001b[0;34m\u001b[0m\u001b[0;34m\u001b[0m\u001b[0m\n\u001b[0;32m-> 1276\u001b[0;31m         \u001b[0mself\u001b[0m\u001b[0;34m.\u001b[0m\u001b[0m_send_output\u001b[0m\u001b[0;34m(\u001b[0m\u001b[0mmessage_body\u001b[0m\u001b[0;34m,\u001b[0m \u001b[0mencode_chunked\u001b[0m\u001b[0;34m=\u001b[0m\u001b[0mencode_chunked\u001b[0m\u001b[0;34m)\u001b[0m\u001b[0;34m\u001b[0m\u001b[0;34m\u001b[0m\u001b[0m\n\u001b[0m\u001b[1;32m   1277\u001b[0m \u001b[0;34m\u001b[0m\u001b[0m\n",
            "\u001b[0;32m~/anaconda3/envs/har/lib/python3.7/http/client.py\u001b[0m in \u001b[0;36m_send_output\u001b[0;34m(self, message_body, encode_chunked)\u001b[0m\n\u001b[1;32m   1035\u001b[0m         \u001b[0;32mdel\u001b[0m \u001b[0mself\u001b[0m\u001b[0;34m.\u001b[0m\u001b[0m_buffer\u001b[0m\u001b[0;34m[\u001b[0m\u001b[0;34m:\u001b[0m\u001b[0;34m]\u001b[0m\u001b[0;34m\u001b[0m\u001b[0;34m\u001b[0m\u001b[0m\n\u001b[0;32m-> 1036\u001b[0;31m         \u001b[0mself\u001b[0m\u001b[0;34m.\u001b[0m\u001b[0msend\u001b[0m\u001b[0;34m(\u001b[0m\u001b[0mmsg\u001b[0m\u001b[0;34m)\u001b[0m\u001b[0;34m\u001b[0m\u001b[0;34m\u001b[0m\u001b[0m\n\u001b[0m\u001b[1;32m   1037\u001b[0m \u001b[0;34m\u001b[0m\u001b[0m\n",
            "\u001b[0;32m~/anaconda3/envs/har/lib/python3.7/http/client.py\u001b[0m in \u001b[0;36msend\u001b[0;34m(self, data)\u001b[0m\n\u001b[1;32m    975\u001b[0m             \u001b[0;32mif\u001b[0m \u001b[0mself\u001b[0m\u001b[0;34m.\u001b[0m\u001b[0mauto_open\u001b[0m\u001b[0;34m:\u001b[0m\u001b[0;34m\u001b[0m\u001b[0;34m\u001b[0m\u001b[0m\n\u001b[0;32m--> 976\u001b[0;31m                 \u001b[0mself\u001b[0m\u001b[0;34m.\u001b[0m\u001b[0mconnect\u001b[0m\u001b[0;34m(\u001b[0m\u001b[0;34m)\u001b[0m\u001b[0;34m\u001b[0m\u001b[0;34m\u001b[0m\u001b[0m\n\u001b[0m\u001b[1;32m    977\u001b[0m             \u001b[0;32melse\u001b[0m\u001b[0;34m:\u001b[0m\u001b[0;34m\u001b[0m\u001b[0;34m\u001b[0m\u001b[0m\n",
            "\u001b[0;32m~/anaconda3/envs/har/lib/python3.7/http/client.py\u001b[0m in \u001b[0;36mconnect\u001b[0;34m(self)\u001b[0m\n\u001b[1;32m    947\u001b[0m         self.sock = self._create_connection(\n\u001b[0;32m--> 948\u001b[0;31m             (self.host,self.port), self.timeout, self.source_address)\n\u001b[0m\u001b[1;32m    949\u001b[0m         \u001b[0mself\u001b[0m\u001b[0;34m.\u001b[0m\u001b[0msock\u001b[0m\u001b[0;34m.\u001b[0m\u001b[0msetsockopt\u001b[0m\u001b[0;34m(\u001b[0m\u001b[0msocket\u001b[0m\u001b[0;34m.\u001b[0m\u001b[0mIPPROTO_TCP\u001b[0m\u001b[0;34m,\u001b[0m \u001b[0msocket\u001b[0m\u001b[0;34m.\u001b[0m\u001b[0mTCP_NODELAY\u001b[0m\u001b[0;34m,\u001b[0m \u001b[0;36m1\u001b[0m\u001b[0;34m)\u001b[0m\u001b[0;34m\u001b[0m\u001b[0;34m\u001b[0m\u001b[0m\n",
            "\u001b[0;32m~/anaconda3/envs/har/lib/python3.7/socket.py\u001b[0m in \u001b[0;36mcreate_connection\u001b[0;34m(address, timeout, source_address)\u001b[0m\n\u001b[1;32m    727\u001b[0m         \u001b[0;32mtry\u001b[0m\u001b[0;34m:\u001b[0m\u001b[0;34m\u001b[0m\u001b[0;34m\u001b[0m\u001b[0m\n\u001b[0;32m--> 728\u001b[0;31m             \u001b[0;32mraise\u001b[0m \u001b[0merr\u001b[0m\u001b[0;34m\u001b[0m\u001b[0;34m\u001b[0m\u001b[0m\n\u001b[0m\u001b[1;32m    729\u001b[0m         \u001b[0;32mfinally\u001b[0m\u001b[0;34m:\u001b[0m\u001b[0;34m\u001b[0m\u001b[0;34m\u001b[0m\u001b[0m\n",
            "\u001b[0;32m~/anaconda3/envs/har/lib/python3.7/socket.py\u001b[0m in \u001b[0;36mcreate_connection\u001b[0;34m(address, timeout, source_address)\u001b[0m\n\u001b[1;32m    715\u001b[0m                 \u001b[0msock\u001b[0m\u001b[0;34m.\u001b[0m\u001b[0mbind\u001b[0m\u001b[0;34m(\u001b[0m\u001b[0msource_address\u001b[0m\u001b[0;34m)\u001b[0m\u001b[0;34m\u001b[0m\u001b[0;34m\u001b[0m\u001b[0m\n\u001b[0;32m--> 716\u001b[0;31m             \u001b[0msock\u001b[0m\u001b[0;34m.\u001b[0m\u001b[0mconnect\u001b[0m\u001b[0;34m(\u001b[0m\u001b[0msa\u001b[0m\u001b[0;34m)\u001b[0m\u001b[0;34m\u001b[0m\u001b[0;34m\u001b[0m\u001b[0m\n\u001b[0m\u001b[1;32m    717\u001b[0m             \u001b[0;31m# Break explicitly a reference cycle\u001b[0m\u001b[0;34m\u001b[0m\u001b[0;34m\u001b[0m\u001b[0;34m\u001b[0m\u001b[0m\n",
            "\u001b[0;31mConnectionRefusedError\u001b[0m: [Errno 111] Connection refused",
            "\nDuring handling of the above exception, another exception occurred:\n",
            "\u001b[0;31mURLError\u001b[0m                                  Traceback (most recent call last)",
            "\u001b[0;32m<ipython-input-37-d07eb11c4c78>\u001b[0m in \u001b[0;36m<module>\u001b[0;34m\u001b[0m\n\u001b[1;32m      4\u001b[0m \u001b[0mtime\u001b[0m\u001b[0;34m.\u001b[0m\u001b[0msleep\u001b[0m\u001b[0;34m(\u001b[0m\u001b[0;36m1\u001b[0m\u001b[0;34m)\u001b[0m  \u001b[0;31m# Give ngrok time to startup.\u001b[0m\u001b[0;34m\u001b[0m\u001b[0;34m\u001b[0m\u001b[0m\n\u001b[1;32m      5\u001b[0m ngrok_data = json.load(\n\u001b[0;32m----> 6\u001b[0;31m     urllib.request.urlopen('http://localhost:4040/api/tunnels'))\n\u001b[0m\u001b[1;32m      7\u001b[0m \u001b[0mngrok_data\u001b[0m\u001b[0;34m[\u001b[0m\u001b[0;34m'tunnels'\u001b[0m\u001b[0;34m]\u001b[0m\u001b[0;34m[\u001b[0m\u001b[0;36m0\u001b[0m\u001b[0;34m]\u001b[0m\u001b[0;34m[\u001b[0m\u001b[0;34m'public_url'\u001b[0m\u001b[0;34m]\u001b[0m\u001b[0;34m\u001b[0m\u001b[0;34m\u001b[0m\u001b[0m\n",
            "\u001b[0;32m~/anaconda3/envs/har/lib/python3.7/urllib/request.py\u001b[0m in \u001b[0;36murlopen\u001b[0;34m(url, data, timeout, cafile, capath, cadefault, context)\u001b[0m\n\u001b[1;32m    220\u001b[0m     \u001b[0;32melse\u001b[0m\u001b[0;34m:\u001b[0m\u001b[0;34m\u001b[0m\u001b[0;34m\u001b[0m\u001b[0m\n\u001b[1;32m    221\u001b[0m         \u001b[0mopener\u001b[0m \u001b[0;34m=\u001b[0m \u001b[0m_opener\u001b[0m\u001b[0;34m\u001b[0m\u001b[0;34m\u001b[0m\u001b[0m\n\u001b[0;32m--> 222\u001b[0;31m     \u001b[0;32mreturn\u001b[0m \u001b[0mopener\u001b[0m\u001b[0;34m.\u001b[0m\u001b[0mopen\u001b[0m\u001b[0;34m(\u001b[0m\u001b[0murl\u001b[0m\u001b[0;34m,\u001b[0m \u001b[0mdata\u001b[0m\u001b[0;34m,\u001b[0m \u001b[0mtimeout\u001b[0m\u001b[0;34m)\u001b[0m\u001b[0;34m\u001b[0m\u001b[0;34m\u001b[0m\u001b[0m\n\u001b[0m\u001b[1;32m    223\u001b[0m \u001b[0;34m\u001b[0m\u001b[0m\n\u001b[1;32m    224\u001b[0m \u001b[0;32mdef\u001b[0m \u001b[0minstall_opener\u001b[0m\u001b[0;34m(\u001b[0m\u001b[0mopener\u001b[0m\u001b[0;34m)\u001b[0m\u001b[0;34m:\u001b[0m\u001b[0;34m\u001b[0m\u001b[0;34m\u001b[0m\u001b[0m\n",
            "\u001b[0;32m~/anaconda3/envs/har/lib/python3.7/urllib/request.py\u001b[0m in \u001b[0;36mopen\u001b[0;34m(self, fullurl, data, timeout)\u001b[0m\n\u001b[1;32m    523\u001b[0m             \u001b[0mreq\u001b[0m \u001b[0;34m=\u001b[0m \u001b[0mmeth\u001b[0m\u001b[0;34m(\u001b[0m\u001b[0mreq\u001b[0m\u001b[0;34m)\u001b[0m\u001b[0;34m\u001b[0m\u001b[0;34m\u001b[0m\u001b[0m\n\u001b[1;32m    524\u001b[0m \u001b[0;34m\u001b[0m\u001b[0m\n\u001b[0;32m--> 525\u001b[0;31m         \u001b[0mresponse\u001b[0m \u001b[0;34m=\u001b[0m \u001b[0mself\u001b[0m\u001b[0;34m.\u001b[0m\u001b[0m_open\u001b[0m\u001b[0;34m(\u001b[0m\u001b[0mreq\u001b[0m\u001b[0;34m,\u001b[0m \u001b[0mdata\u001b[0m\u001b[0;34m)\u001b[0m\u001b[0;34m\u001b[0m\u001b[0;34m\u001b[0m\u001b[0m\n\u001b[0m\u001b[1;32m    526\u001b[0m \u001b[0;34m\u001b[0m\u001b[0m\n\u001b[1;32m    527\u001b[0m         \u001b[0;31m# post-process response\u001b[0m\u001b[0;34m\u001b[0m\u001b[0;34m\u001b[0m\u001b[0;34m\u001b[0m\u001b[0m\n",
            "\u001b[0;32m~/anaconda3/envs/har/lib/python3.7/urllib/request.py\u001b[0m in \u001b[0;36m_open\u001b[0;34m(self, req, data)\u001b[0m\n\u001b[1;32m    541\u001b[0m         \u001b[0mprotocol\u001b[0m \u001b[0;34m=\u001b[0m \u001b[0mreq\u001b[0m\u001b[0;34m.\u001b[0m\u001b[0mtype\u001b[0m\u001b[0;34m\u001b[0m\u001b[0;34m\u001b[0m\u001b[0m\n\u001b[1;32m    542\u001b[0m         result = self._call_chain(self.handle_open, protocol, protocol +\n\u001b[0;32m--> 543\u001b[0;31m                                   '_open', req)\n\u001b[0m\u001b[1;32m    544\u001b[0m         \u001b[0;32mif\u001b[0m \u001b[0mresult\u001b[0m\u001b[0;34m:\u001b[0m\u001b[0;34m\u001b[0m\u001b[0;34m\u001b[0m\u001b[0m\n\u001b[1;32m    545\u001b[0m             \u001b[0;32mreturn\u001b[0m \u001b[0mresult\u001b[0m\u001b[0;34m\u001b[0m\u001b[0;34m\u001b[0m\u001b[0m\n",
            "\u001b[0;32m~/anaconda3/envs/har/lib/python3.7/urllib/request.py\u001b[0m in \u001b[0;36m_call_chain\u001b[0;34m(self, chain, kind, meth_name, *args)\u001b[0m\n\u001b[1;32m    501\u001b[0m         \u001b[0;32mfor\u001b[0m \u001b[0mhandler\u001b[0m \u001b[0;32min\u001b[0m \u001b[0mhandlers\u001b[0m\u001b[0;34m:\u001b[0m\u001b[0;34m\u001b[0m\u001b[0;34m\u001b[0m\u001b[0m\n\u001b[1;32m    502\u001b[0m             \u001b[0mfunc\u001b[0m \u001b[0;34m=\u001b[0m \u001b[0mgetattr\u001b[0m\u001b[0;34m(\u001b[0m\u001b[0mhandler\u001b[0m\u001b[0;34m,\u001b[0m \u001b[0mmeth_name\u001b[0m\u001b[0;34m)\u001b[0m\u001b[0;34m\u001b[0m\u001b[0;34m\u001b[0m\u001b[0m\n\u001b[0;32m--> 503\u001b[0;31m             \u001b[0mresult\u001b[0m \u001b[0;34m=\u001b[0m \u001b[0mfunc\u001b[0m\u001b[0;34m(\u001b[0m\u001b[0;34m*\u001b[0m\u001b[0margs\u001b[0m\u001b[0;34m)\u001b[0m\u001b[0;34m\u001b[0m\u001b[0;34m\u001b[0m\u001b[0m\n\u001b[0m\u001b[1;32m    504\u001b[0m             \u001b[0;32mif\u001b[0m \u001b[0mresult\u001b[0m \u001b[0;32mis\u001b[0m \u001b[0;32mnot\u001b[0m \u001b[0;32mNone\u001b[0m\u001b[0;34m:\u001b[0m\u001b[0;34m\u001b[0m\u001b[0;34m\u001b[0m\u001b[0m\n\u001b[1;32m    505\u001b[0m                 \u001b[0;32mreturn\u001b[0m \u001b[0mresult\u001b[0m\u001b[0;34m\u001b[0m\u001b[0;34m\u001b[0m\u001b[0m\n",
            "\u001b[0;32m~/anaconda3/envs/har/lib/python3.7/urllib/request.py\u001b[0m in \u001b[0;36mhttp_open\u001b[0;34m(self, req)\u001b[0m\n\u001b[1;32m   1376\u001b[0m \u001b[0;34m\u001b[0m\u001b[0m\n\u001b[1;32m   1377\u001b[0m     \u001b[0;32mdef\u001b[0m \u001b[0mhttp_open\u001b[0m\u001b[0;34m(\u001b[0m\u001b[0mself\u001b[0m\u001b[0;34m,\u001b[0m \u001b[0mreq\u001b[0m\u001b[0;34m)\u001b[0m\u001b[0;34m:\u001b[0m\u001b[0;34m\u001b[0m\u001b[0;34m\u001b[0m\u001b[0m\n\u001b[0;32m-> 1378\u001b[0;31m         \u001b[0;32mreturn\u001b[0m \u001b[0mself\u001b[0m\u001b[0;34m.\u001b[0m\u001b[0mdo_open\u001b[0m\u001b[0;34m(\u001b[0m\u001b[0mhttp\u001b[0m\u001b[0;34m.\u001b[0m\u001b[0mclient\u001b[0m\u001b[0;34m.\u001b[0m\u001b[0mHTTPConnection\u001b[0m\u001b[0;34m,\u001b[0m \u001b[0mreq\u001b[0m\u001b[0;34m)\u001b[0m\u001b[0;34m\u001b[0m\u001b[0;34m\u001b[0m\u001b[0m\n\u001b[0m\u001b[1;32m   1379\u001b[0m \u001b[0;34m\u001b[0m\u001b[0m\n\u001b[1;32m   1380\u001b[0m     \u001b[0mhttp_request\u001b[0m \u001b[0;34m=\u001b[0m \u001b[0mAbstractHTTPHandler\u001b[0m\u001b[0;34m.\u001b[0m\u001b[0mdo_request_\u001b[0m\u001b[0;34m\u001b[0m\u001b[0;34m\u001b[0m\u001b[0m\n",
            "\u001b[0;32m~/anaconda3/envs/har/lib/python3.7/urllib/request.py\u001b[0m in \u001b[0;36mdo_open\u001b[0;34m(self, http_class, req, **http_conn_args)\u001b[0m\n\u001b[1;32m   1350\u001b[0m                           encode_chunked=req.has_header('Transfer-encoding'))\n\u001b[1;32m   1351\u001b[0m             \u001b[0;32mexcept\u001b[0m \u001b[0mOSError\u001b[0m \u001b[0;32mas\u001b[0m \u001b[0merr\u001b[0m\u001b[0;34m:\u001b[0m \u001b[0;31m# timeout error\u001b[0m\u001b[0;34m\u001b[0m\u001b[0;34m\u001b[0m\u001b[0m\n\u001b[0;32m-> 1352\u001b[0;31m                 \u001b[0;32mraise\u001b[0m \u001b[0mURLError\u001b[0m\u001b[0;34m(\u001b[0m\u001b[0merr\u001b[0m\u001b[0;34m)\u001b[0m\u001b[0;34m\u001b[0m\u001b[0;34m\u001b[0m\u001b[0m\n\u001b[0m\u001b[1;32m   1353\u001b[0m             \u001b[0mr\u001b[0m \u001b[0;34m=\u001b[0m \u001b[0mh\u001b[0m\u001b[0;34m.\u001b[0m\u001b[0mgetresponse\u001b[0m\u001b[0;34m(\u001b[0m\u001b[0;34m)\u001b[0m\u001b[0;34m\u001b[0m\u001b[0;34m\u001b[0m\u001b[0m\n\u001b[1;32m   1354\u001b[0m         \u001b[0;32mexcept\u001b[0m\u001b[0;34m:\u001b[0m\u001b[0;34m\u001b[0m\u001b[0;34m\u001b[0m\u001b[0m\n",
            "\u001b[0;31mURLError\u001b[0m: <urlopen error [Errno 111] Connection refused>"
          ]
        }
      ],
      "source": [
        "# Get the public address from localhost:4040 (ngrok's web interface).\n",
        "import time, urllib, json\n",
        "import urllib.request\n",
        "time.sleep(1)  # Give ngrok time to startup.\n",
        "ngrok_data = json.load(\n",
        "    urllib.request.urlopen('http://localhost:4040/api/tunnels'))\n",
        "ngrok_data['tunnels'][0]['public_url']"
      ]
    },
    {
      "cell_type": "markdown",
      "metadata": {
        "id": "SoTjyCB0SJi_"
      },
      "source": [
        "**Run the application**"
      ]
    },
    {
      "cell_type": "code",
      "execution_count": 25,
      "metadata": {},
      "outputs": [],
      "source": [
        "%reset"
      ]
    },
    {
      "cell_type": "code",
      "execution_count": 39,
      "metadata": {
        "id": "QfsEeQCOLteG"
      },
      "outputs": [
        {
          "name": "stdout",
          "output_type": "stream",
          "text": [
            "Detectron model loaded in  4.308943748474121\n",
            " * Serving Flask app 'app'\n",
            " * Debug mode: on\n",
            "\u001b[31m\u001b[1mWARNING: This is a development server. Do not use it in a production deployment. Use a production WSGI server instead.\u001b[0m\n",
            " * Running on http://127.0.0.1:5000\n",
            "\u001b[33mPress CTRL+C to quit\u001b[0m\n",
            " * Restarting with stat\n",
            "Detectron model loaded in  4.276184558868408\n",
            " * Debugger is active!\n",
            " * Debugger PIN: 107-313-217\n",
            "127.0.0.1 - - [26/Mar/2024 12:28:28] \"GET / HTTP/1.1\" 200 -\n",
            "127.0.0.1 - - [26/Mar/2024 12:28:29] \"\u001b[35m\u001b[1mGET /files/sample_video.mp4 HTTP/1.1\u001b[0m\" 206 -\n",
            "127.0.0.1 - - [26/Mar/2024 12:28:29] \"\u001b[35m\u001b[1mGET /files/sample_video.mp4 HTTP/1.1\u001b[0m\" 206 -\n",
            "127.0.0.1 - - [26/Mar/2024 12:28:29] \"\u001b[35m\u001b[1mGET /files/sample_video.mp4 HTTP/1.1\u001b[0m\" 206 -\n",
            "127.0.0.1 - - [26/Mar/2024 12:28:29] \"\u001b[35m\u001b[1mGET /files/sample_video.mp4 HTTP/1.1\u001b[0m\" 206 -\n",
            "127.0.0.1 - - [26/Mar/2024 12:28:30] \"\u001b[33mGET /favicon.ico HTTP/1.1\u001b[0m\" 404 -\n",
            "files ImmutableMultiDict([('video', <FileStorage: 'mediaPipe_demo1_cut (1).mp4' ('video/mp4')>)])\n",
            "filename mediaPipe_demo1_cut_1.mp4\n",
            "filepath ./mediaPipe_demo1_cut_1.mp4\n",
            "127.0.0.1 - - [26/Mar/2024 12:29:20] \"POST /upload HTTP/1.1\" 200 -\n",
            "127.0.0.1 - - [26/Mar/2024 12:29:20] \"\u001b[35m\u001b[1mGET /files/mediaPipe_demo1_cut_1.mp4 HTTP/1.1\u001b[0m\" 206 -\n",
            "127.0.0.1 - - [26/Mar/2024 12:29:20] \"\u001b[35m\u001b[1mGET /files/mediaPipe_demo1_cut_1.mp4 HTTP/1.1\u001b[0m\" 206 -\n",
            "127.0.0.1 - - [26/Mar/2024 12:29:20] \"\u001b[35m\u001b[1mGET /files/mediaPipe_demo1_cut_1.mp4 HTTP/1.1\u001b[0m\" 206 -\n",
            "127.0.0.1 - - [26/Mar/2024 12:29:20] \"\u001b[35m\u001b[1mGET /files/mediaPipe_demo1_cut_1.mp4 HTTP/1.1\u001b[0m\" 206 -\n",
            "127.0.0.1 - - [26/Mar/2024 12:29:20] \"GET /analyze/mediaPipe_demo1_cut_1.mp4 HTTP/1.1\" 200 -\n",
            "Video processing finished in  31.04393458366394\n",
            "fps  30\n",
            "width height 1080 1920\n",
            "tot_frames 292\n",
            "127.0.0.1 - - [26/Mar/2024 12:29:51] \"GET /result_video/mediaPipe_demo1_cut_1.mp4 HTTP/1.1\" 200 -\n",
            "finished video streaming\n",
            "127.0.0.1 - - [26/Mar/2024 12:30:14] \"GET /analyzed_files/mediaPipe_demo1_cut_1.mp4 HTTP/1.1\" 200 -\n",
            "^C\n"
          ]
        }
      ],
      "source": [
        "!python app.py"
      ]
    },
    {
      "cell_type": "markdown",
      "metadata": {
        "id": "VW34PmwYSN5J"
      },
      "source": [
        "**Open the app url on browser to access the app**"
      ]
    }
  ],
  "metadata": {
    "accelerator": "GPU",
    "colab": {
      "name": "human_action_classification.ipynb",
      "provenance": []
    },
    "kernelspec": {
      "display_name": "Python 3",
      "name": "python3"
    },
    "language_info": {
      "codemirror_mode": {
        "name": "ipython",
        "version": 3
      },
      "file_extension": ".py",
      "mimetype": "text/x-python",
      "name": "python",
      "nbconvert_exporter": "python",
      "pygments_lexer": "ipython3",
      "version": "3.7.16"
    }
  },
  "nbformat": 4,
  "nbformat_minor": 0
}
